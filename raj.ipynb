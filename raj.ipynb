{
 "cells": [
  {
   "cell_type": "markdown",
   "id": "2a4080f9",
   "metadata": {},
   "source": [
    "# CSCI 381/780 (Fall 2022) - Project 1\n",
    "\n",
    "**Due Date: Friday, October 7 by 4 PM**\n",
    "\n",
    "## Description\n",
    "In this project you will construct machine learning models on a dataset comprised of sociodemographic data of U.S. citizens collected from the 1994 U.S. Census. The machine learning task will be binary classification of people based on their income level being either <= 50,000 USD or > 50,000 USD.\n",
    "\n",
    "## Instructions\n",
    "1. In this project you will write code to construct machine learning models using various partitions (see the figure below) of the census dataset and write responses to questions concerning the performance of said models. Please complete all sections below, adding new *Code* or *Markdown* cells as appropriate to answer the questions.\n",
    "2. There are many Scikit-learn functions that leverage randomness to generate results. For these functions, a pseudorandom generator can be intialized using a seed value by passing the parameter `random_state=XXX`, where `XXX` is some number between 1 and 2^31-1. For each of these functions, **you will utilize your CUNY ID number** to initialize the function. Functions include:\n",
    "- `StratifiedShuffleSplit`\n",
    "- `RandomForestClassifier`\n",
    "- `RandomizedSearchCV`\n",
    "3. You will **work independently** on the project. Please make use of the *Python Data Science Reference Materials* posted on Blackboard, or come to office hours should you need further assistance.\n",
    "4. You will submit a single Jupyter notebook containing all code and written responses via Blackboard by the due date listed above. \n",
    "\n",
    "<img src=\"project-1-data-folds.png\" width=\"600\" height=\"300\">\n",
    "\n",
    "## Grading\n",
    "\n",
    "### Running Code\n",
    "Your Jupyter notebook must be able to run from start to finish **without error**. Please turn any cell that contains scratch work or other non-executable items to *Raw*. **Notebooks that cannot run to completion will receive a grade of 0**.\n",
    "\n",
    "### Holdout Set Evaluation\n",
    "Your final models will be evaluated against a holdout set. You model performances with respect to AUC on this set must be *comparable* (e.g., within 5%) of those reported in Part 6.\n",
    "\n",
    "### Rubric\n",
    "\n",
    "|**Part**|0|1|2|3|4|5|6|7|**Total**|\n",
    "|:---:|:---:|:---:|:---:|:---:|:---:|:---:|:---:|:---:|:---:|\n",
    "|**%**|15|5|10|20|10|10|20|10|100|\n"
   ]
  },
  {
   "cell_type": "markdown",
   "id": "52b2a56d",
   "metadata": {},
   "source": [
    "## Part 0: Load Data"
   ]
  },
  {
   "cell_type": "markdown",
   "id": "7cc78b24",
   "metadata": {},
   "source": [
    "Set the variable `CENSUS_FILE` to the **full path** to the census dataset (**census_dataset.csv**) on your system. Load the file into a dataframe (you may intialize the column names using the header list `census_column_names`), then:\n",
    "1. Determine the number and types of features.\n",
    "2. Determine the number of classes and their prevalence in the dataset. Are the classes balanced?\n",
    "3. Perform any necessary preprocessing on dataset.\n",
    "4. Perform a **stratified split** of the data into training/validation/test sets, 60%/20%/20%. \n",
    "5. Verify that the training/validation/test splits have the same prevalence as the original dataset.\n",
    "6. Standardize the training/validation/test splits (fit on the training, then transform the validation/test sets). Use the standardized splits for the SVM models *only*."
   ]
  },
  {
   "cell_type": "code",
   "execution_count": 1,
   "id": "c0e7f6d5",
   "metadata": {},
   "outputs": [
    {
     "data": {
      "text/html": [
       "<div>\n",
       "<style scoped>\n",
       "    .dataframe tbody tr th:only-of-type {\n",
       "        vertical-align: middle;\n",
       "    }\n",
       "\n",
       "    .dataframe tbody tr th {\n",
       "        vertical-align: top;\n",
       "    }\n",
       "\n",
       "    .dataframe thead th {\n",
       "        text-align: right;\n",
       "    }\n",
       "</style>\n",
       "<table border=\"1\" class=\"dataframe\">\n",
       "  <thead>\n",
       "    <tr style=\"text-align: right;\">\n",
       "      <th></th>\n",
       "      <th>age</th>\n",
       "      <th>workclass</th>\n",
       "      <th>fnlwgt</th>\n",
       "      <th>education</th>\n",
       "      <th>education-num</th>\n",
       "      <th>marital-status</th>\n",
       "      <th>occupation</th>\n",
       "      <th>relationship</th>\n",
       "      <th>race</th>\n",
       "      <th>sex</th>\n",
       "      <th>capital-gain</th>\n",
       "      <th>capital-loss</th>\n",
       "      <th>hours-per-week</th>\n",
       "      <th>native-country</th>\n",
       "      <th>annual-income</th>\n",
       "    </tr>\n",
       "  </thead>\n",
       "  <tbody>\n",
       "    <tr>\n",
       "      <th>0</th>\n",
       "      <td>73</td>\n",
       "      <td>Unknown</td>\n",
       "      <td>378922</td>\n",
       "      <td>HS-grad</td>\n",
       "      <td>9</td>\n",
       "      <td>Married-spouse-absent</td>\n",
       "      <td>Unknown</td>\n",
       "      <td>Not-in-family</td>\n",
       "      <td>White</td>\n",
       "      <td>Female</td>\n",
       "      <td>0</td>\n",
       "      <td>0</td>\n",
       "      <td>20</td>\n",
       "      <td>Canada</td>\n",
       "      <td>&lt;=50K</td>\n",
       "    </tr>\n",
       "    <tr>\n",
       "      <th>1</th>\n",
       "      <td>46</td>\n",
       "      <td>Private</td>\n",
       "      <td>207807</td>\n",
       "      <td>10th</td>\n",
       "      <td>6</td>\n",
       "      <td>Married-civ-spouse</td>\n",
       "      <td>Machine-op-inspct</td>\n",
       "      <td>Wife</td>\n",
       "      <td>Black</td>\n",
       "      <td>Female</td>\n",
       "      <td>0</td>\n",
       "      <td>0</td>\n",
       "      <td>30</td>\n",
       "      <td>United-States</td>\n",
       "      <td>&lt;=50K</td>\n",
       "    </tr>\n",
       "    <tr>\n",
       "      <th>2</th>\n",
       "      <td>55</td>\n",
       "      <td>Self-emp-not-inc</td>\n",
       "      <td>319733</td>\n",
       "      <td>HS-grad</td>\n",
       "      <td>9</td>\n",
       "      <td>Married-civ-spouse</td>\n",
       "      <td>Craft-repair</td>\n",
       "      <td>Husband</td>\n",
       "      <td>White</td>\n",
       "      <td>Male</td>\n",
       "      <td>0</td>\n",
       "      <td>0</td>\n",
       "      <td>40</td>\n",
       "      <td>United-States</td>\n",
       "      <td>&lt;=50K</td>\n",
       "    </tr>\n",
       "    <tr>\n",
       "      <th>3</th>\n",
       "      <td>38</td>\n",
       "      <td>Unknown</td>\n",
       "      <td>365465</td>\n",
       "      <td>Assoc-voc</td>\n",
       "      <td>11</td>\n",
       "      <td>Never-married</td>\n",
       "      <td>Unknown</td>\n",
       "      <td>Own-child</td>\n",
       "      <td>White</td>\n",
       "      <td>Male</td>\n",
       "      <td>0</td>\n",
       "      <td>0</td>\n",
       "      <td>15</td>\n",
       "      <td>United-States</td>\n",
       "      <td>&lt;=50K</td>\n",
       "    </tr>\n",
       "    <tr>\n",
       "      <th>4</th>\n",
       "      <td>26</td>\n",
       "      <td>Self-emp-not-inc</td>\n",
       "      <td>33016</td>\n",
       "      <td>Assoc-voc</td>\n",
       "      <td>11</td>\n",
       "      <td>Divorced</td>\n",
       "      <td>Other-service</td>\n",
       "      <td>Unmarried</td>\n",
       "      <td>White</td>\n",
       "      <td>Female</td>\n",
       "      <td>0</td>\n",
       "      <td>0</td>\n",
       "      <td>55</td>\n",
       "      <td>United-States</td>\n",
       "      <td>&lt;=50K</td>\n",
       "    </tr>\n",
       "  </tbody>\n",
       "</table>\n",
       "</div>"
      ],
      "text/plain": [
       "   age         workclass  fnlwgt  education  education-num  \\\n",
       "0   73           Unknown  378922    HS-grad              9   \n",
       "1   46           Private  207807       10th              6   \n",
       "2   55  Self-emp-not-inc  319733    HS-grad              9   \n",
       "3   38           Unknown  365465  Assoc-voc             11   \n",
       "4   26  Self-emp-not-inc   33016  Assoc-voc             11   \n",
       "\n",
       "          marital-status         occupation   relationship   race     sex  \\\n",
       "0  Married-spouse-absent            Unknown  Not-in-family  White  Female   \n",
       "1     Married-civ-spouse  Machine-op-inspct           Wife  Black  Female   \n",
       "2     Married-civ-spouse       Craft-repair        Husband  White    Male   \n",
       "3          Never-married            Unknown      Own-child  White    Male   \n",
       "4               Divorced      Other-service      Unmarried  White  Female   \n",
       "\n",
       "   capital-gain  capital-loss  hours-per-week native-country annual-income  \n",
       "0             0             0              20         Canada         <=50K  \n",
       "1             0             0              30  United-States         <=50K  \n",
       "2             0             0              40  United-States         <=50K  \n",
       "3             0             0              15  United-States         <=50K  \n",
       "4             0             0              55  United-States         <=50K  "
      ]
     },
     "execution_count": 1,
     "metadata": {},
     "output_type": "execute_result"
    }
   ],
   "source": [
    "import os\n",
    "import pandas as pd\n",
    "\n",
    "CENSUS_FILE=r\"C:\\Users\\Polymorph\\Desktop\\College\\Year 4\\Fall\\381\\Project 1\\census_dataset.csv\"\n",
    "census_column_names=['age','workclass','fnlwgt','education','education-num',\n",
    "                      'marital-status','occupation','relationship','race','sex',\n",
    "                      'capital-gain','capital-loss','hours-per-week','native-country',\n",
    "                      'annual-income']\n",
    "\n",
    "def load_census_data(census_file=CENSUS_FILE):\n",
    "    csv_path = os.path.join(census_file,\"census_dataset.csv\")\n",
    "    return pd.read_csv(census_file,names=census_column_names)\n",
    "\n",
    "census_data = load_census_data()\n",
    "census_income = census_data['annual-income'].to_list()\n",
    "census_data.head()"
   ]
  },
  {
   "cell_type": "code",
   "execution_count": 2,
   "id": "1a8fdba1",
   "metadata": {},
   "outputs": [
    {
     "name": "stdout",
     "output_type": "stream",
     "text": [
      "<class 'pandas.core.frame.DataFrame'>\n",
      "RangeIndex: 27482 entries, 0 to 27481\n",
      "Data columns (total 15 columns):\n",
      " #   Column          Non-Null Count  Dtype \n",
      "---  ------          --------------  ----- \n",
      " 0   age             27482 non-null  int64 \n",
      " 1   workclass       27482 non-null  object\n",
      " 2   fnlwgt          27482 non-null  int64 \n",
      " 3   education       27482 non-null  object\n",
      " 4   education-num   27482 non-null  int64 \n",
      " 5   marital-status  27482 non-null  object\n",
      " 6   occupation      27482 non-null  object\n",
      " 7   relationship    27482 non-null  object\n",
      " 8   race            27482 non-null  object\n",
      " 9   sex             27482 non-null  object\n",
      " 10  capital-gain    27482 non-null  int64 \n",
      " 11  capital-loss    27482 non-null  int64 \n",
      " 12  hours-per-week  27482 non-null  int64 \n",
      " 13  native-country  27482 non-null  object\n",
      " 14  annual-income   27482 non-null  object\n",
      "dtypes: int64(6), object(9)\n",
      "memory usage: 3.1+ MB\n"
     ]
    }
   ],
   "source": [
    "#describes a DataFrame's columns, nullity, and type\n",
    "# 1. Determine the number and types of features\n",
    "census_data.info()"
   ]
  },
  {
   "cell_type": "code",
   "execution_count": 3,
   "id": "2316faf2",
   "metadata": {},
   "outputs": [
    {
     "data": {
      "text/plain": [
       "<=50K    19915\n",
       ">50K      7567\n",
       "Name: annual-income, dtype: int64"
      ]
     },
     "execution_count": 3,
     "metadata": {},
     "output_type": "execute_result"
    }
   ],
   "source": [
    "census_data['annual-income'].value_counts()"
   ]
  },
  {
   "cell_type": "code",
   "execution_count": 4,
   "id": "8fdcfd0f",
   "metadata": {},
   "outputs": [
    {
     "data": {
      "text/plain": [
       "<=50K    0.724656\n",
       ">50K     0.275344\n",
       "Name: annual-income, dtype: float64"
      ]
     },
     "execution_count": 4,
     "metadata": {},
     "output_type": "execute_result"
    }
   ],
   "source": [
    "#determine class balance\n",
    "# 2. Determine the number of classes and their prevalence in the dataset. Are the classes balanced?\n",
    "census_data['annual-income'].value_counts()/len(census_data)"
   ]
  },
  {
   "cell_type": "markdown",
   "id": "0f279a71",
   "metadata": {},
   "source": [
    "Does not seem to be balanced <=50k is 0.73 || >50k is 0.28"
   ]
  },
  {
   "cell_type": "code",
   "execution_count": 5,
   "id": "c330837c",
   "metadata": {
    "scrolled": false
   },
   "outputs": [
    {
     "data": {
      "text/html": [
       "<div>\n",
       "<style scoped>\n",
       "    .dataframe tbody tr th:only-of-type {\n",
       "        vertical-align: middle;\n",
       "    }\n",
       "\n",
       "    .dataframe tbody tr th {\n",
       "        vertical-align: top;\n",
       "    }\n",
       "\n",
       "    .dataframe thead th {\n",
       "        text-align: right;\n",
       "    }\n",
       "</style>\n",
       "<table border=\"1\" class=\"dataframe\">\n",
       "  <thead>\n",
       "    <tr style=\"text-align: right;\">\n",
       "      <th></th>\n",
       "      <th>age</th>\n",
       "      <th>fnlwgt</th>\n",
       "      <th>education-num</th>\n",
       "      <th>capital-gain</th>\n",
       "      <th>capital-loss</th>\n",
       "      <th>hours-per-week</th>\n",
       "    </tr>\n",
       "  </thead>\n",
       "  <tbody>\n",
       "    <tr>\n",
       "      <th>count</th>\n",
       "      <td>27482.000000</td>\n",
       "      <td>2.748200e+04</td>\n",
       "      <td>27482.000000</td>\n",
       "      <td>27482.000000</td>\n",
       "      <td>27482.000000</td>\n",
       "      <td>27482.000000</td>\n",
       "    </tr>\n",
       "    <tr>\n",
       "      <th>mean</th>\n",
       "      <td>38.835529</td>\n",
       "      <td>1.892397e+05</td>\n",
       "      <td>10.144640</td>\n",
       "      <td>1244.783131</td>\n",
       "      <td>87.665454</td>\n",
       "      <td>40.605560</td>\n",
       "    </tr>\n",
       "    <tr>\n",
       "      <th>std</th>\n",
       "      <td>13.596011</td>\n",
       "      <td>1.046691e+05</td>\n",
       "      <td>2.556306</td>\n",
       "      <td>8052.361951</td>\n",
       "      <td>403.121737</td>\n",
       "      <td>12.426491</td>\n",
       "    </tr>\n",
       "    <tr>\n",
       "      <th>min</th>\n",
       "      <td>17.000000</td>\n",
       "      <td>1.228500e+04</td>\n",
       "      <td>1.000000</td>\n",
       "      <td>0.000000</td>\n",
       "      <td>0.000000</td>\n",
       "      <td>1.000000</td>\n",
       "    </tr>\n",
       "    <tr>\n",
       "      <th>25%</th>\n",
       "      <td>28.000000</td>\n",
       "      <td>1.174818e+05</td>\n",
       "      <td>9.000000</td>\n",
       "      <td>0.000000</td>\n",
       "      <td>0.000000</td>\n",
       "      <td>40.000000</td>\n",
       "    </tr>\n",
       "    <tr>\n",
       "      <th>50%</th>\n",
       "      <td>37.000000</td>\n",
       "      <td>1.781385e+05</td>\n",
       "      <td>10.000000</td>\n",
       "      <td>0.000000</td>\n",
       "      <td>0.000000</td>\n",
       "      <td>40.000000</td>\n",
       "    </tr>\n",
       "    <tr>\n",
       "      <th>75%</th>\n",
       "      <td>48.000000</td>\n",
       "      <td>2.367698e+05</td>\n",
       "      <td>13.000000</td>\n",
       "      <td>0.000000</td>\n",
       "      <td>0.000000</td>\n",
       "      <td>45.000000</td>\n",
       "    </tr>\n",
       "    <tr>\n",
       "      <th>max</th>\n",
       "      <td>90.000000</td>\n",
       "      <td>1.490400e+06</td>\n",
       "      <td>16.000000</td>\n",
       "      <td>99999.000000</td>\n",
       "      <td>4356.000000</td>\n",
       "      <td>99.000000</td>\n",
       "    </tr>\n",
       "  </tbody>\n",
       "</table>\n",
       "</div>"
      ],
      "text/plain": [
       "                age        fnlwgt  education-num  capital-gain  capital-loss  \\\n",
       "count  27482.000000  2.748200e+04   27482.000000  27482.000000  27482.000000   \n",
       "mean      38.835529  1.892397e+05      10.144640   1244.783131     87.665454   \n",
       "std       13.596011  1.046691e+05       2.556306   8052.361951    403.121737   \n",
       "min       17.000000  1.228500e+04       1.000000      0.000000      0.000000   \n",
       "25%       28.000000  1.174818e+05       9.000000      0.000000      0.000000   \n",
       "50%       37.000000  1.781385e+05      10.000000      0.000000      0.000000   \n",
       "75%       48.000000  2.367698e+05      13.000000      0.000000      0.000000   \n",
       "max       90.000000  1.490400e+06      16.000000  99999.000000   4356.000000   \n",
       "\n",
       "       hours-per-week  \n",
       "count    27482.000000  \n",
       "mean        40.605560  \n",
       "std         12.426491  \n",
       "min          1.000000  \n",
       "25%         40.000000  \n",
       "50%         40.000000  \n",
       "75%         45.000000  \n",
       "max         99.000000  "
      ]
     },
     "execution_count": 5,
     "metadata": {},
     "output_type": "execute_result"
    }
   ],
   "source": [
    "#calculate summary statistics for numerical features\n",
    "census_data.describe()"
   ]
  },
  {
   "cell_type": "code",
   "execution_count": 6,
   "id": "aecd7abc",
   "metadata": {
    "scrolled": false
   },
   "outputs": [],
   "source": [
    "#3. Perform any necessary preprocessing on dataset\n",
    "from sklearn.preprocessing import OrdinalEncoder\n",
    "\n",
    "enc = OrdinalEncoder()\n",
    "census_data['annual-income'] = census_data['annual-income'].map({ \">50K\" : 1, \"<=50K\" : 0 })\n",
    "census_data_copy = census_data.copy()\n",
    "census_data=enc.fit_transform(census_data)\n",
    "census_data = pd.DataFrame(census_data, index = census_data_copy.index, columns = census_data_copy.columns)"
   ]
  },
  {
   "cell_type": "code",
   "execution_count": 7,
   "id": "3dfe509f",
   "metadata": {
    "scrolled": true
   },
   "outputs": [],
   "source": [
    "# 4. Perform a stratified split of the data into training/validation/test sets, 60%/20%/20%. \n",
    "\n",
    "from sklearn.model_selection import StratifiedShuffleSplit\n",
    "\n",
    "split = StratifiedShuffleSplit(n_splits=1,test_size=0.2, random_state=23730704)\n",
    "for train_index, test_index in split.split(census_data, census_data['annual-income']):\n",
    "    TrainAndValidation = census_data.iloc[train_index]\n",
    "    test_set = census_data.loc[test_index]\n",
    "    \n",
    "split2 = StratifiedShuffleSplit(n_splits=1,test_size=0.25, random_state=23730704)\n",
    "for train_index, test_index in split2.split(TrainAndValidation, TrainAndValidation['annual-income']):\n",
    "    train_set = TrainAndValidation.iloc[train_index]\n",
    "    validation_set = TrainAndValidation.iloc[test_index]"
   ]
  },
  {
   "cell_type": "code",
   "execution_count": 8,
   "id": "94fbda89",
   "metadata": {},
   "outputs": [],
   "source": [
    "# Training (60%)+ Validation (20%) + Test (20%)"
   ]
  },
  {
   "cell_type": "code",
   "execution_count": 9,
   "id": "66a86aba",
   "metadata": {},
   "outputs": [
    {
     "data": {
      "text/plain": [
       "0.0    0.724577\n",
       "1.0    0.275423\n",
       "Name: annual-income, dtype: float64"
      ]
     },
     "execution_count": 9,
     "metadata": {},
     "output_type": "execute_result"
    }
   ],
   "source": [
    "# Test Data 20%\n",
    "test_set['annual-income'].value_counts()/len(test_set)\n"
   ]
  },
  {
   "cell_type": "code",
   "execution_count": 10,
   "id": "bc086a0c",
   "metadata": {},
   "outputs": [
    {
     "data": {
      "text/plain": [
       "0.0    0.724648\n",
       "1.0    0.275352\n",
       "Name: annual-income, dtype: float64"
      ]
     },
     "execution_count": 10,
     "metadata": {},
     "output_type": "execute_result"
    }
   ],
   "source": [
    "# Training Data 60%\n",
    "train_set['annual-income'].value_counts()/len(train_set)"
   ]
  },
  {
   "cell_type": "code",
   "execution_count": 11,
   "id": "ac7c6991",
   "metadata": {},
   "outputs": [
    {
     "data": {
      "text/plain": [
       "0.0    0.724759\n",
       "1.0    0.275241\n",
       "Name: annual-income, dtype: float64"
      ]
     },
     "execution_count": 11,
     "metadata": {},
     "output_type": "execute_result"
    }
   ],
   "source": [
    "# Validation Split 20% \n",
    "validation_set['annual-income'].value_counts()/len(validation_set)"
   ]
  },
  {
   "cell_type": "code",
   "execution_count": 12,
   "id": "3a370ab0",
   "metadata": {},
   "outputs": [],
   "source": [
    "# Standardize the training/validation/test splits (fit on the training, \n",
    "# then transform the validation/test sets). Use the standardized splits for the SVM models *only*.\n",
    "\n",
    "from sklearn.preprocessing import StandardScaler\n",
    "import numpy as np\n",
    "\n",
    "scaler = StandardScaler()\n",
    "scaled_train_set = scaler.fit(train_set) \n",
    "scaled_train_set = scaler.transform(train_set) \n",
    "scaled_valid_set = scaler.transform(validation_set)\n",
    "scaled_test_set = scaler.transform(test_set)"
   ]
  },
  {
   "cell_type": "code",
   "execution_count": 13,
   "id": "fd5e3133",
   "metadata": {},
   "outputs": [],
   "source": [
    "#Creating dependant and independat variables to be used for training \n",
    "from sklearn.model_selection import train_test_split\n",
    "\n",
    "X_train = train_set.drop(['annual-income'], axis=1)\n",
    "y_train = train_set['annual-income']\n",
    "\n",
    "X_validation = validation_set.drop(['annual-income'], axis=1)\n",
    "y_validation = validation_set['annual-income']\n",
    "\n",
    "X_test = test_set.drop(['annual-income'], axis=1)\n",
    "y_test = test_set['annual-income']"
   ]
  },
  {
   "cell_type": "code",
   "execution_count": 14,
   "id": "94f6f83b",
   "metadata": {},
   "outputs": [],
   "source": [
    "from sklearn import preprocessing\n",
    "\n",
    "trainDB = pd.DataFrame(scaled_train_set, index=train_set.index, columns=train_set.columns)\n",
    "validDB = pd.DataFrame(scaled_valid_set, index=validation_set.index, columns=validation_set.columns)\n",
    "testDB = pd.DataFrame(scaled_test_set, index=test_set.index, columns=test_set.columns)\n",
    "\n",
    "standardize_X_train = trainDB.drop(['annual-income'], axis = 1)\n",
    "standardize_y_train = trainDB['annual-income']\n",
    "standardize_y_train[standardize_y_train < 0] = 0\n",
    "standardize_y_train[standardize_y_train > 0] = 1\n",
    "\n",
    "standardize_X_validation = validDB.drop(['annual-income'], axis = 1)\n",
    "standardize_y_validation = validDB['annual-income']\n",
    "standardize_y_validation[standardize_y_validation < 0] = 0\n",
    "standardize_y_validation[standardize_y_validation > 0] = 1\n",
    "\n",
    "standardize_X_test = testDB.drop(['annual-income'], axis = 1)\n",
    "standardize_y_test = testDB['annual-income']\n",
    "standardize_y_test[standardize_y_test < 0] = 0\n",
    "standardize_y_test[standardize_y_test > 0] = 1"
   ]
  },
  {
   "cell_type": "markdown",
   "id": "0eb1a3c8",
   "metadata": {},
   "source": [
    "## Part 1: Train Initial Models"
   ]
  },
  {
   "cell_type": "markdown",
   "id": "721c87b8",
   "metadata": {},
   "source": [
    "Using default hyperparameters:\n",
    "1. Construct **Naive Bayes (NB)**, **Support Vector Machine (SVM)** , and **Random Forest (RF)** models on the training set.\n",
    "2. Calculate the confusion matrix and report the following performance metrics on the **training set**:\n",
    "    *Accuracy*, *F1 Score*, *AUC*, *Sensitivity*, *Specificity*, and *Precision*. You can use the function `p1_metrics` for this purpose. Are any of the models underfitting the data? Is so, why?\n",
    "\n",
    "3. Calculate the same metrics by applying the trained model to the **validation set**. Compare and contrast the errors each model makes in terms of each class. "
   ]
  },
  {
   "cell_type": "code",
   "execution_count": 15,
   "id": "a0d24a60",
   "metadata": {},
   "outputs": [
    {
     "name": "stdout",
     "output_type": "stream",
     "text": [
      "Gaussian Naive Bayes model accuracy(in %): 81.12566715186803\n"
     ]
    }
   ],
   "source": [
    "# Construct Naive Bayes (NB) models on the training set.\n",
    "from sklearn.naive_bayes import GaussianNB\n",
    "from sklearn import metrics\n",
    "\n",
    "gnb = GaussianNB()\n",
    "gnb.fit(X_train, y_train)\n",
    "gnb_y_pred = gnb.predict(X_train)\n",
    "\n",
    "print(\"Gaussian Naive Bayes model accuracy(in %):\", metrics.accuracy_score(y_train, gnb_y_pred)*100)"
   ]
  },
  {
   "cell_type": "code",
   "execution_count": 16,
   "id": "3ec5a80b",
   "metadata": {},
   "outputs": [
    {
     "name": "stdout",
     "output_type": "stream",
     "text": [
      "Support Vector Machine model accuracy(in %): 85.57738961669092\n"
     ]
    }
   ],
   "source": [
    "# Construct Support Vector Machine (SVM) models on the training set.\n",
    "from sklearn.datasets import make_classification\n",
    "from sklearn.svm import SVC\n",
    "\n",
    "SVM_model = SVC()\n",
    "SVM_model.fit(standardize_X_train, standardize_y_train)\n",
    "SVM_y_pred = SVM_model.predict(standardize_X_train)\n",
    "\n",
    "print(\"Support Vector Machine model accuracy(in %):\", metrics.accuracy_score(standardize_y_train, SVM_y_pred)*100)"
   ]
  },
  {
   "cell_type": "code",
   "execution_count": 17,
   "id": "0492c555",
   "metadata": {},
   "outputs": [
    {
     "name": "stdout",
     "output_type": "stream",
     "text": [
      "Random Forest model accuracy(in %): 99.99393498301795\n"
     ]
    }
   ],
   "source": [
    "# Construct Random Forest (RF) models on the training set.\n",
    "from sklearn import metrics\n",
    "from sklearn.ensemble import RandomForestClassifier\n",
    "\n",
    "rfc = RandomForestClassifier(random_state=23730704)\n",
    "rfc.fit(X_train, y_train)\n",
    "rfc_y_pred = rfc.predict(X_train)\n",
    "\n",
    "print(\"Random Forest model accuracy(in %):\", metrics.accuracy_score(y_train, rfc_y_pred)*100)\n"
   ]
  },
  {
   "cell_type": "code",
   "execution_count": 18,
   "id": "d3d9122f",
   "metadata": {},
   "outputs": [],
   "source": [
    "#peformance metric functions\n",
    "from sklearn.metrics import confusion_matrix, roc_auc_score, f1_score\n",
    "import numpy as np\n",
    "\n",
    "#A list of keys for the dictionary returned by p1_metrics\n",
    "metric_keys = ['auc','f1','accuracy','sensitivity','specificity', 'precision']\n",
    "\n",
    "def p1_metrics(y_true,y_pred,include_cm=True):\n",
    "    cm = confusion_matrix(y_true,y_pred)\n",
    "    tn, fp, fn, tp = cm.ravel()\n",
    "    \n",
    "    if include_cm:\n",
    "        return {\n",
    "            'auc': roc_auc_score(y_true,y_pred),\n",
    "            'f1': f1_score(y_true,y_pred),\n",
    "            'accuracy': (tp+tn)/np.sum(cm),\n",
    "            'sensitivity': tp/(tp+fn),\n",
    "            'specificity': tn/(tn+fp),\n",
    "            'precision': tp/(tp+fp),\n",
    "            'confusion_matrix': cm}\n",
    "    else:\n",
    "        return {\n",
    "            'auc': roc_auc_score(y_true,y_pred),\n",
    "            'f1': f1_score(y_true,y_pred),\n",
    "            'accuracy': (tp+tn)/np.sum(cm),\n",
    "            'sensitivity': tp/(tp+fn),\n",
    "            'specificity': tn/(tn+fp),\n",
    "            'precision': tp/(tp+fp)}\n",
    "\n",
    "#This wrapper can be used to return multiple performance metrics during cross-validation\n",
    "def p1_metrics_scorer(clf,X,y_true):\n",
    "    y_pred=clf.predict(X)\n",
    "    return p1_metrics(y_true,y_pred,include_cm=False)"
   ]
  },
  {
   "cell_type": "code",
   "execution_count": 19,
   "id": "6af51af2",
   "metadata": {},
   "outputs": [],
   "source": [
    "# 2. Calculate the confusion matrix and report the following performance metrics on the training set: Accuracy, F1 Score, AUC, Sensitivity, Specificity, and Precision. You can use the function p1_metrics for this purpose. Are any of the models underfitting the data? Is so, why?"
   ]
  },
  {
   "cell_type": "code",
   "execution_count": 20,
   "id": "a60f9abd",
   "metadata": {},
   "outputs": [
    {
     "data": {
      "image/png": "[encoded data removed]",
      "text/plain": [
       "<Figure size 640x480 with 2 Axes>"
      ]
     },
     "metadata": {},
     "output_type": "display_data"
    }
   ],
   "source": [
    "from sklearn.metrics import ConfusionMatrixDisplay\n",
    "import matplotlib.pyplot as plt\n",
    "\n",
    "cm = p1_metrics(y_train, gnb_y_pred).get('confusion_matrix')\n",
    "\n",
    "disp=ConfusionMatrixDisplay(confusion_matrix=cm,display_labels=gnb.classes_)\n",
    "disp.plot()\n",
    "plt.show()"
   ]
  },
  {
   "cell_type": "code",
   "execution_count": 21,
   "id": "d1b314b8",
   "metadata": {},
   "outputs": [
    {
     "data": {
      "image/png": "[encoded data removed]",
      "text/plain": [
       "<Figure size 640x480 with 2 Axes>"
      ]
     },
     "metadata": {},
     "output_type": "display_data"
    }
   ],
   "source": [
    "cm = p1_metrics(standardize_y_train, SVM_y_pred).get('confusion_matrix')\n",
    "\n",
    "disp=ConfusionMatrixDisplay(confusion_matrix=cm,display_labels=gnb.classes_)\n",
    "disp.plot()\n",
    "plt.show()"
   ]
  },
  {
   "cell_type": "code",
   "execution_count": 22,
   "id": "a4b7a65e",
   "metadata": {
    "scrolled": false
   },
   "outputs": [
    {
     "data": {
      "image/png": "[encoded data removed]",
      "text/plain": [
       "<Figure size 640x480 with 2 Axes>"
      ]
     },
     "metadata": {},
     "output_type": "display_data"
    }
   ],
   "source": [
    "cm = p1_metrics(y_train, rfc_y_pred).get('confusion_matrix')\n",
    "\n",
    "disp=ConfusionMatrixDisplay(confusion_matrix=cm,display_labels=gnb.classes_)\n",
    "disp.plot()\n",
    "plt.show()"
   ]
  },
  {
   "cell_type": "markdown",
   "id": "c3d42da8",
   "metadata": {},
   "source": [
    "# Are any of the models underfitting the data? Is so, why?\n",
    "\n",
    "After training each model there are two clear distinctions to be made. Firstly, the NB model is underfitted in the data. While it does report a 81% accurate model the sensitivity is  is 47% meaning showing that the model is misclasifitying almost half of the data.\n",
    "The second distinction recorded is that Rf Model is overfitting the data. This is because it is almost perfect accuracy\n",
    "which should never be happening in machine learning algorithms. It may be beacuse the model is too simple to where it fits too closely to the training set which causes it to perfectly report the data. "
   ]
  },
  {
   "cell_type": "code",
   "execution_count": 23,
   "id": "8997b55b",
   "metadata": {},
   "outputs": [],
   "source": [
    "# 3 Calculate the same metrics by applying the trained model to the validation set. Compare and contrast the errors each model makes in terms of each class.\n",
    "\n",
    "valid_y_pred_gnb = gnb.predict(X_validation)\n",
    "valid_y_pred_SVM = SVM_model.predict(standardize_X_validation)\n",
    "valid_y_pred_RF = rfc.predict(X_validation)"
   ]
  },
  {
   "cell_type": "code",
   "execution_count": 24,
   "id": "a68c7edb",
   "metadata": {},
   "outputs": [
    {
     "data": {
      "image/png": "[encoded data removed]",
      "text/plain": [
       "<Figure size 640x480 with 2 Axes>"
      ]
     },
     "metadata": {},
     "output_type": "display_data"
    }
   ],
   "source": [
    "# NB\n",
    "cm = p1_metrics(y_validation, valid_y_pred_gnb).get('confusion_matrix')\n",
    "\n",
    "disp=ConfusionMatrixDisplay(confusion_matrix=cm,display_labels=gnb.classes_)\n",
    "disp.plot()\n",
    "plt.show()"
   ]
  },
  {
   "cell_type": "code",
   "execution_count": 25,
   "id": "0e0faa49",
   "metadata": {
    "scrolled": false
   },
   "outputs": [
    {
     "data": {
      "image/png": "[encoded data removed]",
      "text/plain": [
       "<Figure size 640x480 with 2 Axes>"
      ]
     },
     "metadata": {},
     "output_type": "display_data"
    }
   ],
   "source": [
    "# SVM\n",
    "cm = p1_metrics(y_validation, valid_y_pred_SVM).get('confusion_matrix')\n",
    "\n",
    "disp=ConfusionMatrixDisplay(confusion_matrix=cm,display_labels=gnb.classes_)\n",
    "disp.plot()\n",
    "plt.show()"
   ]
  },
  {
   "cell_type": "code",
   "execution_count": 26,
   "id": "29d19d4d",
   "metadata": {},
   "outputs": [
    {
     "data": {
      "image/png": "[encoded data removed]",
      "text/plain": [
       "<Figure size 640x480 with 2 Axes>"
      ]
     },
     "metadata": {},
     "output_type": "display_data"
    }
   ],
   "source": [
    "# RF\n",
    "cm = p1_metrics(y_validation, valid_y_pred_RF).get('confusion_matrix')\n",
    "\n",
    "disp=ConfusionMatrixDisplay(confusion_matrix=cm,display_labels=gnb.classes_)\n",
    "disp.plot()\n",
    "plt.show()"
   ]
  },
  {
   "cell_type": "markdown",
   "id": "5784cab5",
   "metadata": {},
   "source": [
    "## Part 2: Cross-Validation Models"
   ]
  },
  {
   "cell_type": "markdown",
   "id": "c865e390",
   "metadata": {},
   "source": [
    "Split the **non-test data** (*training* + *validation* data) into **stratified 5-folds** for cross-validation purposes, then:\n",
    "1. Train NB, SVM, and RF models using 5-fold cross-validation.\n",
    "2. Report the mean and standard deviation of the performance metrics listed in Part 1.2 for each model. You may use the function `collate_cv_results` for this purpose.\n",
    "3. How does the performance of these models compare with those created in Part 1? Which models' performances are more consistent, and why?"
   ]
  },
  {
   "cell_type": "code",
   "execution_count": 27,
   "id": "ef355258",
   "metadata": {},
   "outputs": [
    {
     "name": "stdout",
     "output_type": "stream",
     "text": [
      "TRAIN: [    0     2     3 ... 21979 21982 21983] TEST: [    1     5    13 ... 21980 21981 21984]\n",
      "TRAIN: [    0     1     2 ... 21981 21983 21984] TEST: [    6    11    20 ... 21968 21979 21982]\n",
      "TRAIN: [    0     1     2 ... 21982 21983 21984] TEST: [    8     9    14 ... 21972 21976 21978]\n",
      "TRAIN: [    1     3     5 ... 21982 21983 21984] TEST: [    0     2     4 ... 21959 21965 21973]\n",
      "TRAIN: [    0     1     2 ... 21981 21982 21984] TEST: [    3    16    27 ... 21962 21970 21983]\n"
     ]
    }
   ],
   "source": [
    "from sklearn.model_selection import StratifiedKFold\n",
    "from sklearn import linear_model\n",
    "\n",
    "cv_X = TrainAndValidation.drop('annual-income', axis=1)\n",
    "cv_y = TrainAndValidation['annual-income']  \n",
    "\n",
    "skf = StratifiedKFold(n_splits = 5, shuffle = True, random_state = 23730704)\n",
    "nb_score = []\n",
    "svm_score = []\n",
    "rf_score = []\n",
    "\n",
    "gnb_kfold = GaussianNB()\n",
    "svm_kfold = SVC()\n",
    "rf_kfold = RandomForestClassifier(random_state=23730704)\n",
    "\n",
    "for train_index, test_index in skf.split(cv_X, cv_y):\n",
    "    print(\"TRAIN:\", train_index, \"TEST:\", test_index)\n",
    "    X_train_kfold, X_test_kfold = cv_X.iloc[train_index], cv_X.iloc[test_index]\n",
    "    y_train_kfold, y_test_kfold = cv_y.iloc[train_index], cv_y.iloc[test_index]\n",
    "    \n",
    "    gnb_kfold.fit(X_train_kfold, y_train_kfold)\n",
    "    nb_score.append(p1_metrics_scorer(gnb_kfold, X_test_kfold, y_test_kfold))\n",
    "    rf_kfold.fit(X_train_kfold, y_train_kfold)\n",
    "    rf_score.append(p1_metrics_scorer(rf_kfold, X_test_kfold, y_test_kfold))"
   ]
  },
  {
   "cell_type": "code",
   "execution_count": 28,
   "id": "7ec1c74f",
   "metadata": {},
   "outputs": [],
   "source": [
    "scaled_TrainAndValidation_set = scaler.fit_transform(TrainAndValidation)\n",
    "TrainAndValidationDB = pd.DataFrame(scaled_TrainAndValidation_set, index=TrainAndValidation.index, columns=TrainAndValidation.columns)\n",
    "\n",
    "\n",
    "standardize_X_TrainAndValidation = TrainAndValidationDB.drop(['annual-income'], axis = 1)\n",
    "standardize_y_TrainAndValidation = TrainAndValidationDB['annual-income']\n",
    "standardize_y_TrainAndValidation[standardize_y_TrainAndValidation < 0] = 0\n",
    "standardize_y_TrainAndValidation[standardize_y_TrainAndValidation > 0] = 1\n",
    "\n",
    "SVM_X = standardize_X_TrainAndValidation\n",
    "SVM_y = standardize_y_TrainAndValidation\n",
    "\n",
    "for train_index, test_index in skf.split(SVM_X, SVM_y):\n",
    "    X_train_kfold, X_test_kfold = SVM_X.iloc[train_index], SVM_X.iloc[test_index]\n",
    "    y_train_kfold, y_test_kfold = SVM_y.iloc[train_index], SVM_y.iloc[test_index]\n",
    "    \n",
    "    svm_kfold.fit(X_train_kfold, y_train_kfold)\n",
    "    svm_score.append(p1_metrics_scorer(svm_kfold, X_test_kfold, y_test_kfold))"
   ]
  },
  {
   "cell_type": "code",
   "execution_count": 29,
   "id": "fc2d4603",
   "metadata": {},
   "outputs": [],
   "source": [
    "# Altered the arrays with appended data to display all the entries under one key for mean calculation \n",
    "nb_score = pd.DataFrame(nb_score).to_dict(orient=\"list\")\n",
    "svm_score = pd.DataFrame(svm_score).to_dict(orient=\"list\")\n",
    "rf_score = pd.DataFrame(rf_score).to_dict(orient=\"list\")\n"
   ]
  },
  {
   "cell_type": "code",
   "execution_count": 30,
   "id": "f3f31b1d",
   "metadata": {},
   "outputs": [],
   "source": [
    "#Summarizes model performance results produced during cross-validation\n",
    "def collate_cv_results(cv_results,display=True):\n",
    "    cv_stats=dict()\n",
    "    for k in cv_results:\n",
    "        cv_stats[k+\"_mean\"]=np.mean(cv_results[k])\n",
    "        cv_stats[k+\"_std\"]=np.std(cv_results[k])\n",
    "        if display:\n",
    "            print(k,cv_stats[k+\"_mean\"],\"(\"+str(cv_stats[k+\"_std\"])+\")\")\n",
    "    return cv_stats"
   ]
  },
  {
   "cell_type": "code",
   "execution_count": 31,
   "id": "9f216555",
   "metadata": {},
   "outputs": [
    {
     "name": "stdout",
     "output_type": "stream",
     "text": [
      "auc 0.711096570348996 (0.013032112915892187)\n",
      "f1 0.5872089959129536 (0.022537694387729762)\n",
      "accuracy 0.8123720718671821 (0.005895602181858433)\n",
      "sensitivity 0.4857129208153907 (0.028984801624573717)\n",
      "specificity 0.9364802198826012 (0.0030236553670671892)\n",
      "precision 0.7437813279740275 (0.0035254037300442467)\n"
     ]
    },
    {
     "data": {
      "text/plain": [
       "{'auc_mean': 0.711096570348996,\n",
       " 'auc_std': 0.013032112915892187,\n",
       " 'f1_mean': 0.5872089959129536,\n",
       " 'f1_std': 0.022537694387729762,\n",
       " 'accuracy_mean': 0.8123720718671821,\n",
       " 'accuracy_std': 0.005895602181858433,\n",
       " 'sensitivity_mean': 0.4857129208153907,\n",
       " 'sensitivity_std': 0.028984801624573717,\n",
       " 'specificity_mean': 0.9364802198826012,\n",
       " 'specificity_std': 0.0030236553670671892,\n",
       " 'precision_mean': 0.7437813279740275,\n",
       " 'precision_std': 0.0035254037300442467}"
      ]
     },
     "execution_count": 31,
     "metadata": {},
     "output_type": "execute_result"
    }
   ],
   "source": [
    "nb_mean = collate_cv_results(nb_score)\n",
    "nb_mean"
   ]
  },
  {
   "cell_type": "code",
   "execution_count": 32,
   "id": "1ac2dfc3",
   "metadata": {},
   "outputs": [
    {
     "name": "stdout",
     "output_type": "stream",
     "text": [
      "auc 0.7767750940596773 (0.009941169466743846)\n",
      "f1 0.6887191724002131 (0.013608411215219303)\n",
      "accuracy 0.844166477143507 (0.004299287659192057)\n",
      "sensitivity 0.626798697886454 (0.02278520443033748)\n",
      "specificity 0.9267514902329005 (0.0034290016092685433)\n",
      "precision 0.76481543851747 (0.004184419340429592)\n"
     ]
    },
    {
     "data": {
      "text/plain": [
       "{'auc_mean': 0.7767750940596773,\n",
       " 'auc_std': 0.009941169466743846,\n",
       " 'f1_mean': 0.6887191724002131,\n",
       " 'f1_std': 0.013608411215219303,\n",
       " 'accuracy_mean': 0.844166477143507,\n",
       " 'accuracy_std': 0.004299287659192057,\n",
       " 'sensitivity_mean': 0.626798697886454,\n",
       " 'sensitivity_std': 0.02278520443033748,\n",
       " 'specificity_mean': 0.9267514902329005,\n",
       " 'specificity_std': 0.0034290016092685433,\n",
       " 'precision_mean': 0.76481543851747,\n",
       " 'precision_std': 0.004184419340429592}"
      ]
     },
     "execution_count": 32,
     "metadata": {},
     "output_type": "execute_result"
    }
   ],
   "source": [
    "collate_cv_results(svm_score)"
   ]
  },
  {
   "cell_type": "code",
   "execution_count": 33,
   "id": "c091c167",
   "metadata": {},
   "outputs": [
    {
     "name": "stdout",
     "output_type": "stream",
     "text": [
      "auc 0.8069079876731875 (0.005486839333898937)\n",
      "f1 0.7300667712666792 (0.007500701638403213)\n",
      "accuracy 0.8596315669774846 (0.0033560821916209477)\n",
      "sensitivity 0.6895751752188957 (0.011540515392297153)\n",
      "specificity 0.9242408001274797 (0.0034122936335537514)\n",
      "precision 0.7757544023157276 (0.00756571518953594)\n"
     ]
    },
    {
     "data": {
      "text/plain": [
       "{'auc_mean': 0.8069079876731875,\n",
       " 'auc_std': 0.005486839333898937,\n",
       " 'f1_mean': 0.7300667712666792,\n",
       " 'f1_std': 0.007500701638403213,\n",
       " 'accuracy_mean': 0.8596315669774846,\n",
       " 'accuracy_std': 0.0033560821916209477,\n",
       " 'sensitivity_mean': 0.6895751752188957,\n",
       " 'sensitivity_std': 0.011540515392297153,\n",
       " 'specificity_mean': 0.9242408001274797,\n",
       " 'specificity_std': 0.0034122936335537514,\n",
       " 'precision_mean': 0.7757544023157276,\n",
       " 'precision_std': 0.00756571518953594}"
      ]
     },
     "execution_count": 33,
     "metadata": {},
     "output_type": "execute_result"
    }
   ],
   "source": [
    "collate_cv_results(rf_score)"
   ]
  },
  {
   "cell_type": "markdown",
   "id": "7b9f4546",
   "metadata": {},
   "source": [
    "# How does the performance of these models compare with those created in Part 1? performances are more consistent, and why\n",
    "\n",
    "Comparing the performance models form part and part 2.  We can see that the metrics reported in part 2 for the SVM and NB\n",
    "models are slighly better about 1% better for each metric. However for the RF model we can see that the metrics all went way down from the high 90 percentile we were is this is a good thing because before it appeared that the model became too specific for the test data however now with the multiple folds it elimanated tha bias and created a more accuracte result. "
   ]
  },
  {
   "cell_type": "code",
   "execution_count": 34,
   "id": "29f79a24",
   "metadata": {},
   "outputs": [
    {
     "data": {
      "text/plain": [
       "{'auc': 0.6984595686115248,\n",
       " 'f1': 0.5657467532467534,\n",
       " 'accuracy': 0.8053483718391851,\n",
       " 'sensitivity': 0.4606741573033708,\n",
       " 'specificity': 0.9362449799196787,\n",
       " 'precision': 0.732912723449001}"
      ]
     },
     "execution_count": 34,
     "metadata": {},
     "output_type": "execute_result"
    }
   ],
   "source": [
    "p1_metrics_scorer(gnb, X_validation, y_validation)"
   ]
  },
  {
   "cell_type": "code",
   "execution_count": 35,
   "id": "9ed5a9f0",
   "metadata": {},
   "outputs": [
    {
     "data": {
      "text/plain": [
       "{'auc': 0.7663685143747495,\n",
       " 'f1': 0.672740524781341,\n",
       " 'accuracy': 0.8366381662725123,\n",
       " 'sensitivity': 0.6100462656972901,\n",
       " 'specificity': 0.9226907630522089,\n",
       " 'precision': 0.7497969130787977}"
      ]
     },
     "execution_count": 35,
     "metadata": {},
     "output_type": "execute_result"
    }
   ],
   "source": [
    "p1_metrics_scorer(SVM_model, standardize_X_validation, standardize_y_validation)"
   ]
  },
  {
   "cell_type": "code",
   "execution_count": 36,
   "id": "a83f6f6c",
   "metadata": {},
   "outputs": [
    {
     "data": {
      "text/plain": [
       "{'auc': 0.7978842003838221,\n",
       " 'f1': 0.7150799166087561,\n",
       " 'accuracy': 0.8508277242132072,\n",
       " 'sensitivity': 0.6801057501652347,\n",
       " 'specificity': 0.9156626506024096,\n",
       " 'precision': 0.7538461538461538}"
      ]
     },
     "execution_count": 36,
     "metadata": {},
     "output_type": "execute_result"
    }
   ],
   "source": [
    "p1_metrics_scorer(rfc, X_validation, y_validation)"
   ]
  },
  {
   "cell_type": "markdown",
   "id": "a8ee068b",
   "metadata": {},
   "source": [
    "## Part 3: SVM Hyperparameter Tuning"
   ]
  },
  {
   "cell_type": "markdown",
   "id": "e30be0cc",
   "metadata": {},
   "source": [
    "Utilizing the cross-validation dataset from Part 2, you will construct SVM models using the below strategies:\n",
    "1. Using `GridSearchCV`, determine the best choice of hyperparameters out of the following possible values:\n",
    "- *Kernel type*: Linear, radial basis function\n",
    "- *Box constraint (C)*: [1, 5, 10, 20]\n",
    "- *Kernel width (gamma)*: 'auto','scale'\n",
    "2. Report the time required to perform cross-validation via `GridSearchCV`. Report the mean and standard deviation of the performance metrics for the best performing model along with its associated hyperparameters. You may use the function `collate_ht_results` for this purpose.\n",
    "3. Using `RandomizedSearchCV`, determine the best choice of hyperparameters after **16 trials** using the same possible values for *kernel type* and *kernel width* but with possible **box constraint** values of [1,5,10,15,....,100]. \n",
    "4. Report the time required to perform cross-validation via `RandomizedSearchCV`. Report the mean and standard deviation of the performance metrics for the best performing model along with its associated hyperparameters.\n",
    "5. Compare the performance of the two models (using the metrics in 1.2) as well as the time required to compute the models. Which hyperparameter method do you think is better in this case, and why?\n",
    "\n",
    "### Please Read!\n",
    "There are a few parameters for the `GridSearchCV` and `RandomizedSearchCV` functions that should be set:\n",
    "- `scoring` - This controls the strategy to evaluate the performance of the cross-validated model on the test set, set it to `p1_metrics_scorer`.\n",
    "- `refit` - This will refit an estimator using the best found parameters on the whole dataset, set it to `\"auc\"`\n",
    "- `cv` - This will enable you to reuse your CV splits from Part 2.\n",
    "    `n_jobs` - Number of jobs to run in parallel, if you have more than one core on your device (you should), set this to as many as you'd like to use, or to `-1` if you want to use all available cores.\n",
    "- `return_train_score` - Setting this to `False` will reduce computational time."
   ]
  },
  {
   "cell_type": "code",
   "execution_count": 37,
   "id": "87d86235",
   "metadata": {},
   "outputs": [],
   "source": [
    "#Summarizes model performance results produced during hyperparameter tuning\n",
    "def collate_ht_results(ht_results,metric_keys=metric_keys,display=True):\n",
    "    ht_stats=dict()\n",
    "    for metric in metric_keys:\n",
    "        ht_stats[metric+\"_mean\"] = ht_results.cv_results_[\"mean_test_\"+metric][ht_results.best_index_]\n",
    "        ht_stats[metric+\"_std\"] = metric_std = ht_results.cv_results_[\"std_test_\"+metric][ht_results.best_index_]\n",
    "        if display:\n",
    "            print(\"test_\"+metric,ht_stats[metric+\"_mean\"],\"(\"+str(ht_stats[metric+\"_std\"])+\")\")\n",
    "    return ht_stats"
   ]
  },
  {
   "cell_type": "code",
   "execution_count": 38,
   "id": "213e6cc6",
   "metadata": {},
   "outputs": [
    {
     "data": {
      "text/plain": [
       "{'C': 20, 'gamma': 'auto', 'kernel': 'rbf'}"
      ]
     },
     "execution_count": 38,
     "metadata": {},
     "output_type": "execute_result"
    }
   ],
   "source": [
    "from sklearn.model_selection import GridSearchCV\n",
    "import time \n",
    "\n",
    "grid_start = time.time()\n",
    "\n",
    "parameters = {'kernel':('linear','rbf'), 'C':([1,5,10,20]), 'gamma':('auto', 'scale')}\n",
    "grd = GridSearchCV(scoring = p1_metrics_scorer, refit = \"auc\", cv = skf, return_train_score = False, n_jobs=-1, param_grid=parameters, estimator = SVC())\n",
    "grd.fit(SVM_X, SVM_y)\n",
    "grid_end = time.time()\n",
    "grd.best_params_"
   ]
  },
  {
   "cell_type": "code",
   "execution_count": 39,
   "id": "040d5cf9",
   "metadata": {},
   "outputs": [
    {
     "name": "stdout",
     "output_type": "stream",
     "text": [
      "708.195230960846 seconds\n",
      "test_auc 0.7844992739221233 (0.009692091990432418)\n",
      "test_f1 0.6957669385136837 (0.013169136669038873)\n",
      "test_accuracy 0.8420741414600865 (0.0050601533719075225)\n",
      "test_sensitivity 0.6563700513884434 (0.020197481040164722)\n",
      "test_specificity 0.9126284964558034 (0.0017570768621030597)\n",
      "test_precision 0.7404555423932411 (0.0051894809831871955)\n"
     ]
    },
    {
     "data": {
      "text/plain": [
       "{'auc_mean': 0.7844992739221233,\n",
       " 'auc_std': 0.009692091990432418,\n",
       " 'f1_mean': 0.6957669385136837,\n",
       " 'f1_std': 0.013169136669038873,\n",
       " 'accuracy_mean': 0.8420741414600865,\n",
       " 'accuracy_std': 0.0050601533719075225,\n",
       " 'sensitivity_mean': 0.6563700513884434,\n",
       " 'sensitivity_std': 0.020197481040164722,\n",
       " 'specificity_mean': 0.9126284964558034,\n",
       " 'specificity_std': 0.0017570768621030597,\n",
       " 'precision_mean': 0.7404555423932411,\n",
       " 'precision_std': 0.0051894809831871955}"
      ]
     },
     "execution_count": 39,
     "metadata": {},
     "output_type": "execute_result"
    }
   ],
   "source": [
    "print(grid_end - grid_start, 'seconds')\n",
    "svm_mean = collate_ht_results(grd)\n",
    "svm_mean"
   ]
  },
  {
   "cell_type": "code",
   "execution_count": 40,
   "id": "b67c43e2",
   "metadata": {},
   "outputs": [
    {
     "data": {
      "text/plain": [
       "{'kernel': 'rbf', 'gamma': 'scale', 'C': 20}"
      ]
     },
     "execution_count": 40,
     "metadata": {},
     "output_type": "execute_result"
    }
   ],
   "source": [
    "from sklearn.model_selection import RandomizedSearchCV\n",
    "\n",
    "rscv_start = time.time()\n",
    "\n",
    "parameters = {'kernel':('linear','rbf'), 'C':([1, 5, 10, 15, 20, 25, 30, 35, 40, 45, 50, 55, 60, 65, 70, 75, 80, 85, 90, 95, 100]), 'gamma':('auto', 'scale')}\n",
    "rscv = RandomizedSearchCV(scoring = p1_metrics_scorer, refit = \"auc\", cv = skf, return_train_score = False, n_jobs=-1, param_distributions=parameters, estimator = SVC(), n_iter=16)\n",
    "rscv.fit(SVM_X, SVM_y)\n",
    "\n",
    "rscv_end = time.time()\n",
    "rscv.best_params_"
   ]
  },
  {
   "cell_type": "code",
   "execution_count": 41,
   "id": "a9332399",
   "metadata": {},
   "outputs": [
    {
     "name": "stdout",
     "output_type": "stream",
     "text": [
      "1801.3704009056091 seconds\n",
      "test_auc 0.7841061353540623 (0.010115024119941984)\n",
      "test_f1 0.6951764065827929 (0.013789838527883947)\n",
      "test_accuracy 0.8418012281100751 (0.005317337642960441)\n",
      "test_sensitivity 0.6557093038333186 (0.020961113865158032)\n",
      "test_specificity 0.9125029668748059 (0.001638556047868005)\n",
      "test_precision 0.7399703157789789 (0.005424354341706846)\n"
     ]
    },
    {
     "data": {
      "text/plain": [
       "{'auc_mean': 0.7841061353540623,\n",
       " 'auc_std': 0.010115024119941984,\n",
       " 'f1_mean': 0.6951764065827929,\n",
       " 'f1_std': 0.013789838527883947,\n",
       " 'accuracy_mean': 0.8418012281100751,\n",
       " 'accuracy_std': 0.005317337642960441,\n",
       " 'sensitivity_mean': 0.6557093038333186,\n",
       " 'sensitivity_std': 0.020961113865158032,\n",
       " 'specificity_mean': 0.9125029668748059,\n",
       " 'specificity_std': 0.001638556047868005,\n",
       " 'precision_mean': 0.7399703157789789,\n",
       " 'precision_std': 0.005424354341706846}"
      ]
     },
     "execution_count": 41,
     "metadata": {},
     "output_type": "execute_result"
    }
   ],
   "source": [
    "print(rscv_end - rscv_start, 'seconds')\n",
    "collate_ht_results(rscv)"
   ]
  },
  {
   "cell_type": "markdown",
   "id": "d33e0f64",
   "metadata": {},
   "source": [
    "# Which hyperparameter method do you think is better in this case, and why?\n",
    "Comparing the two hyperparameter sets we can see that the hyperparameters we obtained from the randomized search net \n",
    "better results slightly. Every metric is a bit higher meaning the hyperparamaters are better however the major con in thisis the time taken to obtain them. The grid search runs much comparatively faster than the randomized search.\n",
    "\n",
    "So although yes they do net a sligly better result it isn't enough to warrant the time taken to get them. \n",
    "If the runtime of these functions are not an issue then the randomized search is better because of the slighty better metrics."
   ]
  },
  {
   "cell_type": "code",
   "execution_count": 42,
   "id": "96f57ce4",
   "metadata": {},
   "outputs": [
    {
     "data": {
      "text/plain": [
       "{'auc': 0.830895812839485,\n",
       " 'f1': 0.7687242798353909,\n",
       " 'accuracy': 0.8807011159631247,\n",
       " 'sensitivity': 0.7200440528634361,\n",
       " 'specificity': 0.941747572815534,\n",
       " 'precision': 0.8244640605296343,\n",
       " 'confusion_matrix': array([[11252,   696],\n",
       "        [ 1271,  3269]], dtype=int64)}"
      ]
     },
     "execution_count": 42,
     "metadata": {},
     "output_type": "execute_result"
    }
   ],
   "source": [
    "# retraining svm using hyperparemeters from grid search\n",
    "# {'kernel':('rbf'), 'C':([20]), 'gamma':('auto')}\n",
    "SVM_model_grd = SVC(C = 20, kernel = 'rbf', gamma = 'auto')\n",
    "SVM_model_grd.fit(standardize_X_train, standardize_y_train)\n",
    "SVM_y_pred_grd = SVM_model_grd.predict(standardize_X_train)\n",
    "\n",
    "p1_metrics(standardize_y_train, SVM_y_pred_grd)"
   ]
  },
  {
   "cell_type": "code",
   "execution_count": 43,
   "id": "af4f451f",
   "metadata": {},
   "outputs": [
    {
     "data": {
      "text/plain": [
       "{'auc': 0.8542085085296195,\n",
       " 'f1': 0.8000461520710742,\n",
       " 'accuracy': 0.894893255701116,\n",
       " 'sensitivity': 0.7636563876651983,\n",
       " 'specificity': 0.9447606293940408,\n",
       " 'precision': 0.8400775381633148,\n",
       " 'confusion_matrix': array([[11288,   660],\n",
       "        [ 1073,  3467]], dtype=int64)}"
      ]
     },
     "execution_count": 43,
     "metadata": {},
     "output_type": "execute_result"
    }
   ],
   "source": [
    "# retraining svm using hyperparameters from randomized grid search \n",
    "# {'kernel': 'rbf', 'gamma': 'scale', 'C': 35}\n",
    "\n",
    "SVM_model_rscv = SVC(kernel = 'rbf', gamma = 'scale', C = 60)\n",
    "SVM_model_rscv.fit(standardize_X_train, standardize_y_train)\n",
    "SVM_y_pred_rscv = SVM_model_rscv.predict(standardize_X_train)\n",
    "\n",
    "p1_metrics(standardize_y_train, SVM_y_pred_rscv)"
   ]
  },
  {
   "cell_type": "markdown",
   "id": "22d2f1db",
   "metadata": {},
   "source": [
    "## Part 4: Random Forest Hyperparameter Tuning"
   ]
  },
  {
   "cell_type": "markdown",
   "id": "ca639f6f",
   "metadata": {},
   "source": [
    "Utilizing the cross-validation dataset from Part 2, construct a Random Forest model:\n",
    "\n",
    "1. Using `RandomizedSearchCV`, determine the best choice of hyperparameters after **16 trials** using the following possible values:\n",
    "- *Split criterion*: Gini impurity, information gain (entropy)\n",
    "- *Maximum tree depth*:None, log<sub>2</sub>|cross-validation dataset|-1 (use `ceil` to round up to the nearest integer)\n",
    "- *Number of trees*: [10,20,...,100]\n",
    "2. Report the time required to perform cross-validation via `RandomizedSearchCV`. Report the mean and standard deviation of the performance metrics for the best performing model along with its associated hyperparameters. You may use the function `collate_ht_results` for this purpose.\n",
    "2. Compare the performance of this model to the best RF model constructed in Part 2. Which performs better?"
   ]
  },
  {
   "cell_type": "code",
   "execution_count": 44,
   "id": "62571b48",
   "metadata": {},
   "outputs": [
    {
     "data": {
      "text/plain": [
       "{'n_estimators': 100, 'max_depth': None, 'criterion': 'entropy'}"
      ]
     },
     "execution_count": 44,
     "metadata": {},
     "output_type": "execute_result"
    }
   ],
   "source": [
    "import math\n",
    "\n",
    "parameters_rf = {'criterion':('gini', 'entropy'), \n",
    "                 'max_depth':(None, math.ceil(math.log2(len(TrainAndValidation)-1))),\n",
    "                 'n_estimators':([10,20,30,40,50,60,70,80,90,100])}\n",
    "\n",
    "rscv_start_rf = time.time()            \n",
    "rscv_rf = RandomizedSearchCV(scoring = p1_metrics_scorer, refit = \"auc\", cv = skf, return_train_score = False, n_jobs=-1, param_distributions=parameters_rf, estimator = RandomForestClassifier(random_state=23730704), n_iter=16)\n",
    "rscv_rf.fit(cv_X, cv_y)\n",
    "\n",
    "rscv_end_rf = time.time()\n",
    "rscv_rf.best_params_"
   ]
  },
  {
   "cell_type": "code",
   "execution_count": 45,
   "id": "28bd8460",
   "metadata": {},
   "outputs": [
    {
     "name": "stdout",
     "output_type": "stream",
     "text": [
      "34.59492778778076 seconds\n",
      "test_auc 0.8089530718327833 (0.004733386024359304)\n",
      "test_f1 0.7328518358351055 (0.00590487259389562)\n",
      "test_accuracy 0.8608141914942007 (0.00243676965858156)\n",
      "test_sensitivity 0.6935400700193133 (0.011686849846522518)\n",
      "test_specificity 0.9243660736462532 (0.003903940847962426)\n",
      "test_precision 0.7770966024597457 (0.007260799840441543)\n"
     ]
    },
    {
     "data": {
      "text/plain": [
       "{'auc_mean': 0.8089530718327833,\n",
       " 'auc_std': 0.004733386024359304,\n",
       " 'f1_mean': 0.7328518358351055,\n",
       " 'f1_std': 0.00590487259389562,\n",
       " 'accuracy_mean': 0.8608141914942007,\n",
       " 'accuracy_std': 0.00243676965858156,\n",
       " 'sensitivity_mean': 0.6935400700193133,\n",
       " 'sensitivity_std': 0.011686849846522518,\n",
       " 'specificity_mean': 0.9243660736462532,\n",
       " 'specificity_std': 0.003903940847962426,\n",
       " 'precision_mean': 0.7770966024597457,\n",
       " 'precision_std': 0.007260799840441543}"
      ]
     },
     "execution_count": 45,
     "metadata": {},
     "output_type": "execute_result"
    }
   ],
   "source": [
    "print(rscv_end_rf - rscv_start_rf, 'seconds')\n",
    "rf_mean = collate_ht_results(rscv_rf)\n",
    "rf_mean"
   ]
  },
  {
   "cell_type": "markdown",
   "id": "b025884a",
   "metadata": {},
   "source": [
    "# Compare the performance of this model to the best RF model constructed in Part 2. Which performs better?\n",
    "\n",
    "Viewing the performance model of the RF witht the new paramateres we is clear to tell that the model with the best paramaters performs better. ALl the metrics are significatnly higher without the model being too specific to the set its being trained on as it was shown in part 1. We can see how the model \n",
    "with the new parameters has a higher sensitivity which means that for the TP and P it is reporting a more accuract measurment for the total correct guesses. The percision also went up  significantly which mean for the true positives it is reporting a high ammount which means the model is making less errors compared to the model in part 2."
   ]
  },
  {
   "cell_type": "code",
   "execution_count": 46,
   "id": "448c96a1",
   "metadata": {},
   "outputs": [
    {
     "data": {
      "text/plain": [
       "{'auc': 0.8963512224042804,\n",
       " 'f1': 0.8605659516202646,\n",
       " 'accuracy': 0.9258854924793789,\n",
       " 'sensitivity': 0.8306167400881057,\n",
       " 'specificity': 0.9620857047204553,\n",
       " 'precision': 0.8927556818181818,\n",
       " 'confusion_matrix': array([[11495,   453],\n",
       "        [  769,  3771]], dtype=int64)}"
      ]
     },
     "execution_count": 46,
     "metadata": {},
     "output_type": "execute_result"
    }
   ],
   "source": [
    "rfc_rscv = RandomForestClassifier(n_estimators = 80, max_depth = 15, criterion = 'gini', random_state=23730704)\n",
    "rfc_rscv.fit(X_train, y_train)\n",
    "rfc_y_pred_rscv = rfc_rscv.predict(X_train)\n",
    "p1_metrics(y_train, rfc_y_pred_rscv)"
   ]
  },
  {
   "cell_type": "code",
   "execution_count": 47,
   "id": "037617ac",
   "metadata": {},
   "outputs": [
    {
     "name": "stdout",
     "output_type": "stream",
     "text": [
      "auc 0.8069079876731875 (0.005486839333898937)\n",
      "f1 0.7300667712666792 (0.007500701638403213)\n",
      "accuracy 0.8596315669774846 (0.0033560821916209477)\n",
      "sensitivity 0.6895751752188957 (0.011540515392297153)\n",
      "specificity 0.9242408001274797 (0.0034122936335537514)\n",
      "precision 0.7757544023157276 (0.00756571518953594)\n"
     ]
    },
    {
     "data": {
      "text/plain": [
       "{'auc_mean': 0.8069079876731875,\n",
       " 'auc_std': 0.005486839333898937,\n",
       " 'f1_mean': 0.7300667712666792,\n",
       " 'f1_std': 0.007500701638403213,\n",
       " 'accuracy_mean': 0.8596315669774846,\n",
       " 'accuracy_std': 0.0033560821916209477,\n",
       " 'sensitivity_mean': 0.6895751752188957,\n",
       " 'sensitivity_std': 0.011540515392297153,\n",
       " 'specificity_mean': 0.9242408001274797,\n",
       " 'specificity_std': 0.0034122936335537514,\n",
       " 'precision_mean': 0.7757544023157276,\n",
       " 'precision_std': 0.00756571518953594}"
      ]
     },
     "execution_count": 47,
     "metadata": {},
     "output_type": "execute_result"
    }
   ],
   "source": [
    "collate_cv_results(rf_score)"
   ]
  },
  {
   "cell_type": "markdown",
   "id": "96964f7a",
   "metadata": {},
   "source": [
    "## Part 5: Feature Selection"
   ]
  },
  {
   "cell_type": "markdown",
   "id": "f6264831",
   "metadata": {},
   "source": [
    "Perform a stratified split of the **training data** into feature selection (one-sixth)/training (five-sixths) sets, then:\n",
    "1. Calculate feature importance on the feature selection subset using *Random Forest Feature Importance (RFFI)*. Produce a bar graph showing each feature's importance and its standard deviation, as determined by RFFI, in descending order.\n",
    "2. Choosing the **top 6 features**, train NB, SVM, and RF models on this new,smaller training set and test on the validation set.\n",
    "3. Choosing the **top 11 features**, train NB, SVM, and RF models on this new,smaller training set and test on the validation set.\n",
    "4. Compare the performance of the models with respect the algorithm used (e.g., NB) and the number of features chosen (6, 11, and all features (those constructed in Part 1). How do they compare?"
   ]
  },
  {
   "cell_type": "code",
   "execution_count": 48,
   "id": "ee0d63f4",
   "metadata": {},
   "outputs": [],
   "source": [
    "# Created feature selection 10% from Training split (50%) \n",
    "training_split = StratifiedShuffleSplit(n_splits = 1, test_size = 1/6, random_state = 23730704)\n",
    "for train_index, test_index in training_split.split(train_set, train_set['annual-income']):\n",
    "    featured_selection = train_set.iloc[test_index]\n",
    "    train_set_small = train_set.iloc[train_index]\n",
    "    \n",
    "    X_train_set_small = train_set_small.drop(['annual-income'], axis=1)\n",
    "    y_train_set_small = train_set_small['annual-income']\n",
    "    \n",
    "    X_featured = featured_selection.drop(['annual-income'], axis=1)\n",
    "    y_featured = featured_selection['annual-income']"
   ]
  },
  {
   "cell_type": "code",
   "execution_count": 49,
   "id": "810ead06",
   "metadata": {
    "scrolled": false
   },
   "outputs": [
    {
     "data": {
      "image/png": "[encoded data removed]",
      "text/plain": [
       "<Figure size 640x480 with 1 Axes>"
      ]
     },
     "metadata": {},
     "output_type": "display_data"
    }
   ],
   "source": [
    "feature_names = list(featured_selection.columns)\n",
    "feature_importances = rfc.feature_importances_\n",
    "indices = np.argsort(feature_importances)\n",
    "\n",
    "plt.title('Feature Importances')\n",
    "plt.barh(range(len(indices)), feature_importances[indices], color='turquoise', align='center')\n",
    "plt.yticks(range(len(indices)), [feature_names[i] for i in indices])\n",
    "plt.show()"
   ]
  },
  {
   "cell_type": "code",
   "execution_count": 50,
   "id": "2ad2ce2f",
   "metadata": {},
   "outputs": [],
   "source": [
    "# Choosing the top 6 features, train NB, SVM, and RF models on this new,smaller training set and test on the validation set."
   ]
  },
  {
   "cell_type": "code",
   "execution_count": 51,
   "id": "ca38572a",
   "metadata": {},
   "outputs": [],
   "source": [
    "top_6_features = [feature_names[i] for i in indices]\n",
    "top_6_features = top_6_features[:7:-1]"
   ]
  },
  {
   "cell_type": "code",
   "execution_count": 52,
   "id": "c1898ca5",
   "metadata": {},
   "outputs": [],
   "source": [
    "X_train_6 = X_train_set_small[top_6_features]\n",
    "validation_set_top6 = validation_set[top_6_features]\n",
    "y_validation_set_top6 = validation_set['annual-income']\n",
    "\n",
    "# Scaled Training set for SVM\n",
    "scaled_X_train_6 = scaler.fit_transform(X_train_6)\n",
    "scaled_X_train_6 = pd.DataFrame(scaled_X_train_6, index = X_train_6.index, columns = X_train_6.columns)\n",
    "\n",
    "# Scaled Validation for SVM \n",
    "scaled_X_valid_6 = scaler.fit_transform(validation_set_top6)\n",
    "scaled_X_valid_6 = pd.DataFrame(scaled_X_valid_6, index = validation_set_top6.index, columns = validation_set_top6.columns)\n"
   ]
  },
  {
   "cell_type": "code",
   "execution_count": 53,
   "id": "769736b1",
   "metadata": {},
   "outputs": [],
   "source": [
    "gnb_six = GaussianNB()\n",
    "gnb_six.fit(X_train_6, y_train_set_small)\n",
    "gnb_y_pred_6 = gnb_six.predict(validation_set_top6)"
   ]
  },
  {
   "cell_type": "code",
   "execution_count": 54,
   "id": "942b497d",
   "metadata": {},
   "outputs": [],
   "source": [
    "SVM_model_six = SVC()\n",
    "SVM_model_six.fit(scaled_X_train_6, y_train_set_small)\n",
    "SVM_y_pred_6 = SVM_model_six.predict(scaled_X_valid_6)"
   ]
  },
  {
   "cell_type": "code",
   "execution_count": 55,
   "id": "a148f96c",
   "metadata": {},
   "outputs": [],
   "source": [
    "rfc_six = RandomForestClassifier(random_state = 23730704)\n",
    "rfc_six.fit(X_train_6, y_train_set_small)\n",
    "rfc_y_pred_six = rfc_six.predict(validation_set_top6)"
   ]
  },
  {
   "cell_type": "code",
   "execution_count": 56,
   "id": "ef242e41",
   "metadata": {},
   "outputs": [],
   "source": [
    "# Choosing the top 11 features, train NB, SVM, and RF models on this new,smaller training set and test on the validation set."
   ]
  },
  {
   "cell_type": "code",
   "execution_count": 57,
   "id": "f6993899",
   "metadata": {},
   "outputs": [],
   "source": [
    "top_11_features = [feature_names[i] for i in indices]\n",
    "top_11_features = top_11_features[:2:-1]"
   ]
  },
  {
   "cell_type": "code",
   "execution_count": 58,
   "id": "7a960531",
   "metadata": {},
   "outputs": [],
   "source": [
    "X_train_11 = X_train_set_small[top_11_features]\n",
    "validation_set_top11 = validation_set[top_11_features]\n",
    "y_validation_set_top11 = validation_set['annual-income']\n",
    "\n",
    "# Scaled Training set for SVM\n",
    "scaled_X_train_11 = scaler.fit_transform(X_train_11)\n",
    "scaled_X_train_11 = pd.DataFrame(scaled_X_train_11, index = X_train_11.index, columns = X_train_11.columns)\n",
    "\n",
    "# Scaled Validation for SVM \n",
    "scaled_X_valid_11 = scaler.fit_transform(validation_set_top11)\n",
    "scaled_X_valid_11 = pd.DataFrame(scaled_X_valid_11, index = validation_set_top11.index, columns = validation_set_top11.columns)\n"
   ]
  },
  {
   "cell_type": "code",
   "execution_count": 59,
   "id": "0fd1f3ae",
   "metadata": {},
   "outputs": [],
   "source": [
    "gnb_eleven = GaussianNB()\n",
    "gnb_eleven.fit(X_train_11, y_train_set_small)\n",
    "gnb_y_pred_11 = gnb_eleven.predict(validation_set_top11)"
   ]
  },
  {
   "cell_type": "code",
   "execution_count": 60,
   "id": "4326866d",
   "metadata": {},
   "outputs": [],
   "source": [
    "SVM_model_eleven = SVC()\n",
    "SVM_model_eleven.fit(scaled_X_train_11, y_train_set_small)\n",
    "SVM_y_pred_11 = SVM_model_eleven.predict(scaled_X_valid_11)"
   ]
  },
  {
   "cell_type": "code",
   "execution_count": 61,
   "id": "0f42033a",
   "metadata": {},
   "outputs": [],
   "source": [
    "rfc_eleven = RandomForestClassifier(random_state = 23730704)\n",
    "rfc_eleven.fit(X_train_11, y_train_set_small)\n",
    "rfc_y_pred_11 = rfc_eleven.predict(validation_set_top11)"
   ]
  },
  {
   "cell_type": "markdown",
   "id": "b50f9eaa",
   "metadata": {},
   "source": [
    "# Compare the performance of the models with respect the algorithm used\n",
    "\n",
    "Comparing the metrics for the the worst model is the one with only the top 6 features. This is most likely because of how eliminating more than half the data made it so the model could not accuracy predict. And it got a bit better for the top 11 and was the best for the original model in Part 1. This is true for both the NB and SVM and only RF being an exception since the Model in part one overfitted the data. \n",
    "\n",
    "We can see how the sensitivity goes up comparing the 6 to 11 and 11 to original. This shows how  Out of all the guesses it makes for being TP / TP + FN. Meaning out of all the guesses it makes compared to the guesses it made for either >50k and <50k"
   ]
  },
  {
   "cell_type": "code",
   "execution_count": 62,
   "id": "8d94231f",
   "metadata": {},
   "outputs": [
    {
     "data": {
      "text/plain": [
       "{'auc': 0.7063650267163583,\n",
       " 'f1': 0.5798001620307859,\n",
       " 'accuracy': 0.8112566715186803,\n",
       " 'sensitivity': 0.47290748898678414,\n",
       " 'specificity': 0.9398225644459324,\n",
       " 'precision': 0.7491277041172366,\n",
       " 'confusion_matrix': array([[11229,   719],\n",
       "        [ 2393,  2147]], dtype=int64)}"
      ]
     },
     "metadata": {},
     "output_type": "display_data"
    },
    {
     "data": {
      "text/plain": [
       "{'auc': 0.5927856336117768,\n",
       " 'f1': 0.3341797866937532,\n",
       " 'accuracy': 0.7615062761506276,\n",
       " 'sensitivity': 0.21744877726371448,\n",
       " 'specificity': 0.9681224899598394,\n",
       " 'precision': 0.7214912280701754,\n",
       " 'confusion_matrix': array([[3857,  127],\n",
       "        [1184,  329]], dtype=int64)}"
      ]
     },
     "metadata": {},
     "output_type": "display_data"
    },
    {
     "data": {
      "text/plain": [
       "{'auc': 0.6429160959767689,\n",
       " 'f1': 0.457220461747397,\n",
       " 'accuracy': 0.7818810260141895,\n",
       " 'sensitivity': 0.33377395902181095,\n",
       " 'specificity': 0.9520582329317269,\n",
       " 'precision': 0.7255747126436781,\n",
       " 'confusion_matrix': array([[3793,  191],\n",
       "        [1008,  505]], dtype=int64)}"
      ]
     },
     "metadata": {},
     "output_type": "display_data"
    }
   ],
   "source": [
    "# NB\n",
    "display(p1_metrics(y_train, gnb_y_pred))\n",
    "display(p1_metrics(y_validation_set_top6,gnb_y_pred_6))\n",
    "display(p1_metrics(y_validation_set_top11,gnb_y_pred_11))"
   ]
  },
  {
   "cell_type": "code",
   "execution_count": 63,
   "id": "2a67c4b3",
   "metadata": {},
   "outputs": [
    {
     "data": {
      "text/plain": [
       "{'auc': 0.7910942277033076,\n",
       " 'f1': 0.7118972619336078,\n",
       " 'accuracy': 0.8557738961669092,\n",
       " 'sensitivity': 0.647136563876652,\n",
       " 'specificity': 0.9350518915299632,\n",
       " 'precision': 0.7910608508346796,\n",
       " 'confusion_matrix': array([[11172,   776],\n",
       "        [ 1602,  2938]], dtype=int64)}"
      ]
     },
     "metadata": {},
     "output_type": "display_data"
    },
    {
     "data": {
      "text/plain": [
       "{'auc': 0.759119010742242,\n",
       " 'f1': 0.6613138686131387,\n",
       " 'accuracy': 0.8311806439876296,\n",
       " 'sensitivity': 0.5988103106411103,\n",
       " 'specificity': 0.9194277108433735,\n",
       " 'precision': 0.7383863080684596,\n",
       " 'confusion_matrix': array([[3663,  321],\n",
       "        [ 607,  906]], dtype=int64)}"
      ]
     },
     "metadata": {},
     "output_type": "display_data"
    },
    {
     "data": {
      "text/plain": [
       "{'auc': 0.7676651749098178,\n",
       " 'f1': 0.6736462093862815,\n",
       " 'accuracy': 0.8355466618155357,\n",
       " 'sensitivity': 0.6166556510244547,\n",
       " 'specificity': 0.9186746987951807,\n",
       " 'precision': 0.7422434367541766,\n",
       " 'confusion_matrix': array([[3660,  324],\n",
       "        [ 580,  933]], dtype=int64)}"
      ]
     },
     "metadata": {},
     "output_type": "display_data"
    }
   ],
   "source": [
    "# SVM\n",
    "display(p1_metrics(standardize_y_train, SVM_y_pred))\n",
    "display(p1_metrics(y_validation_set_top6, SVM_y_pred_6))\n",
    "display(p1_metrics(y_validation_set_top11, SVM_y_pred_11))"
   ]
  },
  {
   "cell_type": "code",
   "execution_count": 64,
   "id": "e88a97de",
   "metadata": {},
   "outputs": [
    {
     "data": {
      "text/plain": [
       "{'auc': 0.9999581519919652,\n",
       " 'f1': 0.9998898799691665,\n",
       " 'accuracy': 0.9999393498301795,\n",
       " 'sensitivity': 1.0,\n",
       " 'specificity': 0.9999163039839304,\n",
       " 'precision': 0.9997797841885048,\n",
       " 'confusion_matrix': array([[11947,     1],\n",
       "        [    0,  4540]], dtype=int64)}"
      ]
     },
     "metadata": {},
     "output_type": "display_data"
    },
    {
     "data": {
      "text/plain": [
       "{'auc': 0.7673675534922241,\n",
       " 'f1': 0.6682842287694974,\n",
       " 'accuracy': 0.825905039112243,\n",
       " 'sensitivity': 0.637144745538665,\n",
       " 'specificity': 0.8975903614457831,\n",
       " 'precision': 0.7026239067055393,\n",
       " 'confusion_matrix': array([[3576,  408],\n",
       "        [ 549,  964]], dtype=int64)}"
      ]
     },
     "metadata": {},
     "output_type": "display_data"
    },
    {
     "data": {
      "text/plain": [
       "{'auc': 0.7925380470991699,\n",
       " 'f1': 0.7069864442127215,\n",
       " 'accuracy': 0.8466436237947972,\n",
       " 'sensitivity': 0.6721744877726371,\n",
       " 'specificity': 0.9129016064257028,\n",
       " 'precision': 0.7456011730205279,\n",
       " 'confusion_matrix': array([[3637,  347],\n",
       "        [ 496, 1017]], dtype=int64)}"
      ]
     },
     "metadata": {},
     "output_type": "display_data"
    }
   ],
   "source": [
    "# RF\n",
    "display(p1_metrics(y_train, rfc_y_pred))\n",
    "display(p1_metrics(y_validation_set_top6,rfc_y_pred_six))\n",
    "display(p1_metrics(y_validation_set_top11,rfc_y_pred_11))"
   ]
  },
  {
   "cell_type": "markdown",
   "id": "c9a605ce",
   "metadata": {},
   "source": [
    "## Part 6: Final Models and Visualization"
   ]
  },
  {
   "cell_type": "markdown",
   "id": "b366abc9",
   "metadata": {},
   "source": [
    "1. Using the full training set (**feature selection + training + validation**), train NB, SVM, and RF models, then apply them to the test set. Your final NB, SVM, and RF models should be named `gnb_final`, `svm_final`, and `rf_final`.\n",
    "2. Create a bar chart of mean metrics from cross-validation, with standard deviation as an error bar for each model on the same plot. Use the NB model from Part 2, but the optimal models from Parts 3 and 4 for SVM and RF respectively.\n",
    "3. Plot Receiver Operating Characteristic (ROC) curves for each final model in a single plot.\n",
    "4. Which of the above metrics best illuminate the difference (if any) in model performance? Why?"
   ]
  },
  {
   "cell_type": "code",
   "execution_count": 65,
   "id": "f459327b",
   "metadata": {},
   "outputs": [],
   "source": [
    "scaled_TrainAndValidation_set = scaler.fit_transform(TrainAndValidation) \n",
    "standardized_TrainAndValidation_set = pd.DataFrame(scaled_TrainAndValidation_set, index = TrainAndValidation.index, columns = TrainAndValidation.columns)\n",
    "\n",
    "X_train = TrainAndValidation.drop(['annual-income'], axis=1)\n",
    "y_train = TrainAndValidation['annual-income']"
   ]
  },
  {
   "cell_type": "code",
   "execution_count": 66,
   "id": "d191e379",
   "metadata": {},
   "outputs": [],
   "source": [
    "gnb_final = GaussianNB()\n",
    "gnb_final.fit(X_train, y_train)\n",
    "gnb_final_y_pred = gnb_final.predict(X_test)"
   ]
  },
  {
   "cell_type": "code",
   "execution_count": 67,
   "id": "e0a4c95f",
   "metadata": {},
   "outputs": [],
   "source": [
    "svm_final = SVC()\n",
    "svm_final.fit(standardize_X_train, standardize_y_train)\n",
    "svm_final_y_pred = svm_final.predict(standardize_X_test)"
   ]
  },
  {
   "cell_type": "code",
   "execution_count": 68,
   "id": "e12ab2aa",
   "metadata": {},
   "outputs": [],
   "source": [
    "rf_final = RandomForestClassifier(random_state = 23730704)\n",
    "rf_final.fit(X_train, y_train)\n",
    "rf_final_y_pred = rf_final.predict(X_test)"
   ]
  },
  {
   "cell_type": "code",
   "execution_count": 69,
   "id": "c2060fe5",
   "metadata": {},
   "outputs": [
    {
     "name": "stdout",
     "output_type": "stream",
     "text": [
      "auc 0.711096570348996 (0.013032112915892187)\n",
      "f1 0.5872089959129536 (0.022537694387729762)\n",
      "accuracy 0.8123720718671821 (0.005895602181858433)\n",
      "sensitivity 0.4857129208153907 (0.028984801624573717)\n",
      "specificity 0.9364802198826012 (0.0030236553670671892)\n",
      "precision 0.7437813279740275 (0.0035254037300442467)\n",
      "auc 0.711096570348996 (0.013032112915892187)\n",
      "f1 0.5872089959129536 (0.022537694387729762)\n",
      "accuracy 0.8123720718671821 (0.005895602181858433)\n",
      "sensitivity 0.4857129208153907 (0.028984801624573717)\n",
      "specificity 0.9364802198826012 (0.0030236553670671892)\n",
      "precision 0.7437813279740275 (0.0035254037300442467)\n"
     ]
    },
    {
     "data": {
      "text/plain": [
       "['auc_std',\n",
       " 'f1_std',\n",
       " 'accuracy_std',\n",
       " 'sensitivity_std',\n",
       " 'specificity_std',\n",
       " 'precision_std']"
      ]
     },
     "execution_count": 69,
     "metadata": {},
     "output_type": "execute_result"
    }
   ],
   "source": [
    "mean_names = []\n",
    "for dict_items in collate_cv_results(nb_score).keys():\n",
    "    if 'mean' in dict_items:\n",
    "        mean_names.append(dict_items)\n",
    "mean_names\n",
    "\n",
    "std_names = []\n",
    "for dict_items in collate_cv_results(nb_score).keys():\n",
    "    if 'std' in dict_items:\n",
    "        std_names.append(dict_items)\n",
    "std_names"
   ]
  },
  {
   "cell_type": "code",
   "execution_count": 70,
   "id": "c2828ed8",
   "metadata": {},
   "outputs": [],
   "source": [
    "# Means from Nb model \n",
    "nb_means=[]\n",
    "nb_means.append(nb_mean['auc_mean'])\n",
    "nb_means.append(nb_mean['f1_mean'])\n",
    "nb_means.append(nb_mean['accuracy_mean'])\n",
    "nb_means.append(nb_mean['sensitivity_mean'])\n",
    "nb_means.append(nb_mean['specificity_mean'])\n",
    "nb_means.append(nb_mean['precision_mean'])\n",
    "nb_means\n",
    "\n",
    "#Standardard Deviation for Nb model \n",
    "nb_std=[]\n",
    "nb_std.append(nb_mean['auc_std'])\n",
    "nb_std.append(nb_mean['f1_std'])\n",
    "nb_std.append(nb_mean['accuracy_std'])\n",
    "nb_std.append(nb_mean['sensitivity_std'])\n",
    "nb_std.append(nb_mean['specificity_std'])\n",
    "nb_std.append(nb_mean['precision_std'])"
   ]
  },
  {
   "cell_type": "code",
   "execution_count": 71,
   "id": "f16dfe4d",
   "metadata": {},
   "outputs": [],
   "source": [
    "# Means from SVM model \n",
    "svm_means = []\n",
    "svm_means.append(svm_mean['auc_mean'])\n",
    "svm_means.append(svm_mean['f1_mean'])\n",
    "svm_means.append(svm_mean['accuracy_mean'])\n",
    "svm_means.append(svm_mean['sensitivity_mean'])\n",
    "svm_means.append(svm_mean['specificity_mean'])\n",
    "svm_means.append(svm_mean['precision_mean'])\n",
    "svm_means\n",
    "\n",
    "#Standardard Deviation for SVM model \n",
    "svm_std=[]\n",
    "svm_std.append(svm_mean['auc_std'])\n",
    "svm_std.append(svm_mean['f1_std'])\n",
    "svm_std.append(svm_mean['accuracy_std'])\n",
    "svm_std.append(svm_mean['sensitivity_std'])\n",
    "svm_std.append(svm_mean['specificity_std'])\n",
    "svm_std.append(svm_mean['precision_std'])"
   ]
  },
  {
   "cell_type": "code",
   "execution_count": 72,
   "id": "e7be0f76",
   "metadata": {},
   "outputs": [],
   "source": [
    "# Means from Rf model \n",
    "rf_means = []\n",
    "rf_means.append(rf_mean['auc_mean'])\n",
    "rf_means.append(rf_mean['f1_mean'])\n",
    "rf_means.append(rf_mean['accuracy_mean'])\n",
    "rf_means.append(rf_mean['sensitivity_mean'])\n",
    "rf_means.append(rf_mean['specificity_mean'])\n",
    "rf_means.append(rf_mean['precision_mean'])\n",
    "rf_means\n",
    "\n",
    "#Standardard Deviation for Nb model \n",
    "rd_std=[]\n",
    "rd_std.append(rf_mean['auc_std'])\n",
    "rd_std.append(rf_mean['f1_std'])\n",
    "rd_std.append(rf_mean['accuracy_std'])\n",
    "rd_std.append(rf_mean['sensitivity_std'])\n",
    "rd_std.append(rf_mean['specificity_std'])\n",
    "rd_std.append(rf_mean['precision_std'])"
   ]
  },
  {
   "cell_type": "code",
   "execution_count": 73,
   "id": "2d312c52",
   "metadata": {},
   "outputs": [
    {
     "data": {
      "image/png": "[encoded data removed]",
      "text/plain": [
       "<Figure size 1500x600 with 1 Axes>"
      ]
     },
     "metadata": {},
     "output_type": "display_data"
    }
   ],
   "source": [
    "plt.figure(figsize=(15,6))\n",
    "X_axis = np.arange(len(mean_names))\n",
    "\n",
    "plt.bar(X_axis - 0.2, nb_means, 0.2, label = 'NB_Means', yerr=nb_std)\n",
    "plt.bar(X_axis - 0.0, svm_means, 0.2, label = 'SVM_Means', yerr=svm_std)\n",
    "plt.bar(X_axis - -0.2, rf_means, 0.2, label = 'RF_Means', yerr=rd_std)\n",
    "\n",
    "plt.xticks(X_axis, mean_names)\n",
    "plt.xlabel(\"Means for Each Model\")\n",
    "plt.title(\"Final Models and Visualization\")\n",
    "plt.legend()\n",
    "plt.show()"
   ]
  },
  {
   "cell_type": "code",
   "execution_count": 74,
   "id": "60b8af88",
   "metadata": {},
   "outputs": [
    {
     "data": {
      "text/plain": [
       "<matplotlib.legend.Legend at 0x24c0e1f8d60>"
      ]
     },
     "execution_count": 74,
     "metadata": {},
     "output_type": "execute_result"
    },
    {
     "data": {
      "image/png": "[encoded data removed]",
      "text/plain": [
       "<Figure size 640x480 with 1 Axes>"
      ]
     },
     "metadata": {},
     "output_type": "display_data"
    }
   ],
   "source": [
    "fpr, tpr, _ = metrics.roc_curve(y_test, gnb_final_y_pred)\n",
    "plt.plot(fpr,tpr, label = \"gnb_final\")\n",
    "fpr, tpr, _ = metrics.roc_curve(standardize_y_test, svm_final_y_pred)\n",
    "plt.plot(fpr,tpr, label = \"svm_final)\")\n",
    "fpr, tpr, _ = metrics.roc_curve(y_test, rf_final_y_pred)\n",
    "plt.plot(fpr,tpr, label = \"rf_final\")\n",
    "plt.legend()\n"
   ]
  },
  {
   "cell_type": "markdown",
   "id": "b475d3c1",
   "metadata": {},
   "source": [
    "# Which of the above metrics best illuminate the difference (if any) in model performance? Why?\n",
    "\n",
    "Looking at the metrics recording for the means in each model and the ROC graph we can see that how the the NB model consisntaly performed worse thatn the other two models. This most likely because the model used for the NB metric was from part one where the data was underfitted the model meaning it would report worse all across the board. We can see for every blue bar it reported the lowest data. And the inverse is true for the RF model. After training using the hyperparameters it became the most consistant model we used in this project. And the SVM was around average not too far off in the RF overall.\n",
    "\n",
    "One part where the NB model did outshine the others is for specificity mean, meaning for the data it guessed it had the greatest perdictions for true negatives. However when looking at Sensitvity we can see it falls extreamly short meaning it fails to get true positive.\n",
    "\n",
    "Comparably the RF and SVM models the RF model reports better metrics. This may be due to the hyperparamater tuning we did. Overall they were very close but the RF model seems to be more consistant outshining the SVM in every way. \n",
    "\n",
    "Using the ROF graph we can see how the NB model is lagging behind the RF and SVM. There is only a minor difference in the RF and SVM model but overall the RF is better in every way. "
   ]
  },
  {
   "cell_type": "markdown",
   "id": "8ea4ae38",
   "metadata": {},
   "source": [
    "## Part 7: Holdout Set Evaluation (Instructor)"
   ]
  },
  {
   "cell_type": "markdown",
   "id": "5b6e6dfe",
   "metadata": {},
   "source": [
    "Your final models `gnb_final`, `svm_final`, and `rf_final` will be evaluated on a holdout set by the instructor."
   ]
  },
  {
   "cell_type": "code",
   "execution_count": 75,
   "id": "aed3b467",
   "metadata": {},
   "outputs": [],
   "source": [
    "# hi professor"
   ]
  }
 ],
 "metadata": {
  "kernelspec": {
   "display_name": "Python 3 (ipykernel)",
   "language": "python",
   "name": "python3"
  },
  "language_info": {
   "codemirror_mode": {
    "name": "ipython",
    "version": 3
   },
   "file_extension": ".py",
   "mimetype": "text/x-python",
   "name": "python",
   "nbconvert_exporter": "python",
   "pygments_lexer": "ipython3",
   "version": "3.9.5"
  }
 },
 "nbformat": 4,
 "nbformat_minor": 5
}
